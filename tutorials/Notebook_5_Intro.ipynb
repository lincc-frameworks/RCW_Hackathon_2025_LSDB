{
 "cells": [
  {
   "cell_type": "markdown",
   "id": "5713a279-84ca-45d9-8f29-d829025322a9",
   "metadata": {
    "execution": {
     "iopub.execute_input": "2025-07-08T00:42:42.087726Z",
     "iopub.status.busy": "2025-07-08T00:42:42.087447Z",
     "iopub.status.idle": "2025-07-08T00:42:42.091750Z",
     "shell.execute_reply": "2025-07-08T00:42:42.091064Z",
     "shell.execute_reply.started": "2025-07-08T00:42:42.087705Z"
    }
   },
   "source": [
    "Author:LINCC Frameworks team\n",
    "\n",
    "Last updated: July 08, 2025"
   ]
  },
  {
   "cell_type": "markdown",
   "id": "5c157f6e-48f0-47d0-a14e-bf37d9190908",
   "metadata": {},
   "source": [
    "# Possible AGN problem 1 - how many SDSS AGN"
   ]
  },
  {
   "cell_type": "code",
   "execution_count": null,
   "id": "8be59162-c351-4c86-9549-4aa23bd4a9f3",
   "metadata": {},
   "outputs": [],
   "source": [
    "# Get SDSS AGN\n",
    "# you can use wget, like in this example: https://github.com/lsst-sitcom/linccf/blob/main/internal/agn_variability/2025_jan/00-download_sdss_dr7qso.sh\n",
    "# for instance wget https://das.sdss.org/va/qso_properties_dr7/data/catalogs/dr7_bh_June_2010.fits.gz\n",
    "# transform into something that lsdb can ingest, like pandas df\n",
    "# load into lsdb with lsdb.from_dataframe function\n",
    "# crossmatch with photo-z catalog from Notebook 3\n",
    "# are any of them in photo-z catalog?\n",
    "# if yes, do photometric redshifts agree with each other? Do they agree with SDSS estimate?\n",
    "# if no, is that resonable? Plot distributions of AGNs and Rubin DP1 coverage and compare"
   ]
  },
  {
   "cell_type": "markdown",
   "id": "af30fcf3-7f8c-4d79-8740-5c30e6a8bfbe",
   "metadata": {
    "execution": {
     "iopub.execute_input": "2025-07-08T15:19:30.235661Z",
     "iopub.status.busy": "2025-07-08T15:19:30.235368Z",
     "iopub.status.idle": "2025-07-08T15:19:30.238475Z",
     "shell.execute_reply": "2025-07-08T15:19:30.238008Z",
     "shell.execute_reply.started": "2025-07-08T15:19:30.235638Z"
    }
   },
   "source": [
    "# Possible AGN problem 2 - crossmatch large number of AGN"
   ]
  },
  {
   "cell_type": "code",
   "execution_count": 12,
   "id": "c1d9e89a-44e8-4583-b994-0e8268ba27e8",
   "metadata": {},
   "outputs": [],
   "source": [
    "# Get MiliQuas catalog from https://quasars.org/milliquas.htm\n",
    "# transform into someting that lsdb can ingest, like pandas df\n",
    "# load into lsdb with lsdb.from_dataframe function\n",
    "# crossmatch with DP1 object collections \n",
    "# get all AGN that you can find\n",
    "# crossmatch with DP1 dia_object collections \n",
    "# get all AGN that you can find\n",
    "# What is the difference in the number of objects and dia_objects you have found?"
   ]
  },
  {
   "cell_type": "markdown",
   "id": "9e47cf09-9b37-4048-9664-360efff1f6d6",
   "metadata": {},
   "source": [
    "# Possible AGN problem 3 - run a function accross AGN lightcurves"
   ]
  },
  {
   "cell_type": "code",
   "execution_count": null,
   "id": "43ecb2fa-9b7f-4467-a87e-1f2c35a41d99",
   "metadata": {},
   "outputs": [],
   "source": [
    "# Ok, now you have some lightcurves. Lets run a function over these lightcurves\n",
    "\n",
    "# get EzTao from  https://github.com/ywx649999311/EzTao\n",
    "# fit drw fit (drw_fit(t, y, yerr)) to the longest lightcurves that you can find (e.g., fit red band lightcurves with more than 200 observations)\n"
   ]
  }
 ],
 "metadata": {
  "kernelspec": {
   "display_name": "LSST",
   "language": "python",
   "name": "lsst"
  },
  "language_info": {
   "codemirror_mode": {
    "name": "ipython",
    "version": 3
   },
   "file_extension": ".py",
   "mimetype": "text/x-python",
   "name": "python",
   "nbconvert_exporter": "python",
   "pygments_lexer": "ipython3",
   "version": "3.12.11"
  }
 },
 "nbformat": 4,
 "nbformat_minor": 5
}
